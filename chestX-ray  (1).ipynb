{
 "cells": [
  {
   "cell_type": "code",
   "execution_count": null,
   "metadata": {
    "id": "zBTwbmnbymiz"
   },
   "outputs": [],
   "source": [
    "# X-ray (diease detection)"
   ]
  },
  {
   "cell_type": "code",
   "execution_count": 40,
   "metadata": {
    "id": "l2SsOkNcy_rF"
   },
   "outputs": [],
   "source": [
    "import keras\n",
    "from keras import preprocessing"
   ]
  },
  {
   "cell_type": "code",
   "execution_count": 41,
   "metadata": {
    "id": "7_p5PKgiz53W"
   },
   "outputs": [],
   "source": [
    "from keras.preprocessing import image"
   ]
  },
  {
   "cell_type": "code",
   "execution_count": 42,
   "metadata": {
    "id": "kh9xb4980E5f"
   },
   "outputs": [],
   "source": [
    "from keras.preprocessing.image import ImageDataGenerator"
   ]
  },
  {
   "cell_type": "code",
   "execution_count": 43,
   "metadata": {
    "id": "YIfVc4c1z1AV"
   },
   "outputs": [],
   "source": [
    "ref = {\"dir_train\": (r'\\Users\\VISHAKKHA DASH\\Desktop\\ne\\chest_xray\\train'),\n",
    "       \"dir_test\": (r'\\Users\\VISHAKKHA DASH\\Desktop\\ne\\chest_xray\\test')}"
   ]
  },
  {
   "cell_type": "code",
   "execution_count": 44,
   "metadata": {
    "id": "ClG4NpQs0r8n"
   },
   "outputs": [],
   "source": [
    "# preprocess the data\n",
    "train_datagen = ImageDataGenerator(rescale = 1.0/255,\n",
    "                                   shear_range = 0.2,\n",
    "                                   zoom_range = 0.2,\n",
    "                                   horizontal_flip=True)"
   ]
  },
  {
   "cell_type": "code",
   "execution_count": 45,
   "metadata": {
    "id": "n1NUOuAg0r-9"
   },
   "outputs": [],
   "source": [
    "test_datagen = ImageDataGenerator(rescale = 1.0/255)"
   ]
  },
  {
   "cell_type": "code",
   "execution_count": 47,
   "metadata": {
    "id": "OcOErxfD1WXl"
   },
   "outputs": [
    {
     "name": "stdout",
     "output_type": "stream",
     "text": [
      "Found 5216 images belonging to 2 classes.\n"
     ]
    }
   ],
   "source": [
    "# lets create our images\n",
    "training_set = train_datagen.flow_from_directory(ref[\"dir_train\"],\n",
    "                                                 target_size = (64,64),\n",
    "                                                 batch_size = 32,\n",
    "                                                 class_mode = 'binary')"
   ]
  },
  {
   "cell_type": "code",
   "execution_count": 48,
   "metadata": {
    "id": "tzHWioRY189p"
   },
   "outputs": [
    {
     "name": "stdout",
     "output_type": "stream",
     "text": [
      "Found 624 images belonging to 2 classes.\n"
     ]
    }
   ],
   "source": [
    "test_set = test_datagen.flow_from_directory(ref[\"dir_test\"],\n",
    "                                                 target_size = (64,64),\n",
    "                                                 batch_size = 32,\n",
    "                                                 class_mode = 'binary')"
   ]
  },
  {
   "cell_type": "code",
   "execution_count": 49,
   "metadata": {
    "id": "eAVOGeUGcCXC"
   },
   "outputs": [
    {
     "name": "stdout",
     "output_type": "stream",
     "text": [
      "{'NORMAL': 0, 'PNEUMONIA': 1}\n"
     ]
    }
   ],
   "source": [
    "print(training_set.class_indices)"
   ]
  },
  {
   "cell_type": "markdown",
   "metadata": {
    "id": "z4VZwKPb2eyV"
   },
   "source": [
    "## CNN MODEL"
   ]
  },
  {
   "cell_type": "code",
   "execution_count": 50,
   "metadata": {
    "id": "raJ_14iP2MhW"
   },
   "outputs": [],
   "source": [
    "import keras\n",
    "from keras.models import Sequential\n",
    "from keras.layers import Flatten, Conv2D, MaxPooling2D\n",
    "from keras.layers import Dense,Dropout"
   ]
  },
  {
   "cell_type": "code",
   "execution_count": 51,
   "metadata": {
    "id": "5Drrij202zFw"
   },
   "outputs": [],
   "source": [
    "# model\n",
    "Model = Sequential()"
   ]
  },
  {
   "cell_type": "code",
   "execution_count": 52,
   "metadata": {
    "id": "NfIQ0s5O3YCM"
   },
   "outputs": [],
   "source": [
    "# add a convolution layer\n",
    "Model.add(Conv2D(32,(3,3) , input_shape =(64,64,3), activation =\"relu\"))"
   ]
  },
  {
   "cell_type": "code",
   "execution_count": 53,
   "metadata": {
    "id": "mSuKW5jw4AAo"
   },
   "outputs": [],
   "source": [
    "#ppoling layer\n",
    "Model.add(MaxPooling2D(pool_size = (2,2)))"
   ]
  },
  {
   "cell_type": "code",
   "execution_count": 54,
   "metadata": {
    "id": "6rLMyWzg4MQ9"
   },
   "outputs": [],
   "source": [
    "# add a convolution layer\n",
    "Model.add(Conv2D(16,(3,3) , activation =\"relu\"))"
   ]
  },
  {
   "cell_type": "code",
   "execution_count": 55,
   "metadata": {
    "id": "C7G9QwfC4HvZ"
   },
   "outputs": [],
   "source": [
    "#ppoling layer\n",
    "Model.add(MaxPooling2D(pool_size = (2,2)))"
   ]
  },
  {
   "cell_type": "code",
   "execution_count": 56,
   "metadata": {
    "id": "RB32s7P3v-De"
   },
   "outputs": [],
   "source": [
    "# add a convolution layer\n",
    "#Model.add(Conv2D(8,(3,3) , activation =\"relu\"))\n",
    "#ppoling layer\n",
    "#Model.add(MaxPooling2D(pool_size = (2,2)))"
   ]
  },
  {
   "cell_type": "code",
   "execution_count": 57,
   "metadata": {
    "id": "Payu23UJdKNC"
   },
   "outputs": [
    {
     "data": {
      "text/plain": [
       "256"
      ]
     },
     "execution_count": 57,
     "metadata": {},
     "output_type": "execute_result"
    }
   ],
   "source": [
    "16*16"
   ]
  },
  {
   "cell_type": "code",
   "execution_count": 58,
   "metadata": {
    "id": "2Fiz-WQd4S9L"
   },
   "outputs": [],
   "source": [
    "# flatten layer\n",
    "Model.add(Flatten())"
   ]
  },
  {
   "cell_type": "code",
   "execution_count": 59,
   "metadata": {
    "id": "2XPGRepW4omn"
   },
   "outputs": [],
   "source": [
    "# full connection layer\n",
    "Model.add(Dense(units = 128,activation='relu'))\n",
    "Model.add(Dense(units = 64,activation='relu'))\n",
    "Model.add(Dense(units = 1,activation='sigmoid'))"
   ]
  },
  {
   "cell_type": "code",
   "execution_count": 60,
   "metadata": {
    "id": "4lRxPyXO5Qnv"
   },
   "outputs": [],
   "source": [
    "#model compile\n",
    "Model.compile(optimizer ='adam', loss='binary_crossentropy',metrics =['accuracy'])"
   ]
  },
  {
   "cell_type": "code",
   "execution_count": 61,
   "metadata": {
    "id": "_P1CiEiswp24"
   },
   "outputs": [],
   "source": [
    "# Do you have any define variable for depenedent \n",
    "# and how upu will pass data for X,Y"
   ]
  },
  {
   "cell_type": "code",
   "execution_count": 62,
   "metadata": {
    "id": "W0NBahr46TL5"
   },
   "outputs": [
    {
     "name": "stderr",
     "output_type": "stream",
     "text": [
      "C:\\Users\\VISHAKKHA DASH\\AppData\\Local\\Temp\\ipykernel_24544\\2375698147.py:3: UserWarning: `Model.fit_generator` is deprecated and will be removed in a future version. Please use `Model.fit`, which supports generators.\n",
      "  Model.fit_generator(training_set, steps_per_epoch= 1375/32,\n"
     ]
    },
    {
     "name": "stdout",
     "output_type": "stream",
     "text": [
      "Epoch 1/5\n",
      "42/42 [==============================] - 23s 515ms/step - loss: 0.5370 - accuracy: 0.7645 - val_loss: 0.5774 - val_accuracy: 0.7273\n",
      "Epoch 2/5\n",
      "42/42 [==============================] - 19s 449ms/step - loss: 0.3868 - accuracy: 0.8336 - val_loss: 0.3473 - val_accuracy: 0.8466\n",
      "Epoch 3/5\n",
      "42/42 [==============================] - 20s 455ms/step - loss: 0.3195 - accuracy: 0.8517 - val_loss: 0.3447 - val_accuracy: 0.8409\n",
      "Epoch 4/5\n",
      "42/42 [==============================] - 20s 461ms/step - loss: 0.3165 - accuracy: 0.8590 - val_loss: 0.4039 - val_accuracy: 0.8153\n",
      "Epoch 5/5\n",
      "42/42 [==============================] - 20s 461ms/step - loss: 0.2513 - accuracy: 0.8990 - val_loss: 0.3994 - val_accuracy: 0.8239\n"
     ]
    },
    {
     "data": {
      "text/plain": [
       "<keras.src.callbacks.History at 0x21a9276b790>"
      ]
     },
     "execution_count": 62,
     "metadata": {},
     "output_type": "execute_result"
    }
   ],
   "source": [
    "# for Keras in case we use image data generator we will prefer\n",
    "# Model.fit_generator\n",
    "Model.fit_generator(training_set, steps_per_epoch= 1375/32,\n",
    "                    epochs = 5,\n",
    "                    validation_data= test_set,\n",
    "                    validation_steps= 336/32)"
   ]
  },
  {
   "cell_type": "code",
   "execution_count": 63,
   "metadata": {
    "id": "of-06dhWyl9D"
   },
   "outputs": [],
   "source": [
    "# test an image\n",
    "import numpy as np\n",
    "from keras.preprocessing  import image"
   ]
  },
  {
   "cell_type": "code",
   "execution_count": 64,
   "metadata": {
    "id": "QALr9F25ymDf"
   },
   "outputs": [],
   "source": [
    "testing_image = image.load_img(r'\\Users\\VISHAKKHA DASH\\Desktop\\ne\\chest_xray\\test\\PNEUMONIA\\person100_bacteria_475.jpeg',\n",
    "                               target_size = (64,64))"
   ]
  },
  {
   "cell_type": "code",
   "execution_count": 65,
   "metadata": {
    "id": "OGrLx_CU27kL"
   },
   "outputs": [
    {
     "data": {
      "image/png": "[encoded data removed]",
      "text/plain": [
       "<PIL.Image.Image image mode=RGB size=64x64>"
      ]
     },
     "execution_count": 65,
     "metadata": {},
     "output_type": "execute_result"
    }
   ],
   "source": [
    "testing_image"
   ]
  },
  {
   "cell_type": "code",
   "execution_count": 66,
   "metadata": {
    "id": "x3eNb5OB29iX"
   },
   "outputs": [],
   "source": [
    "test_image = image.img_to_array(testing_image)"
   ]
  },
  {
   "cell_type": "code",
   "execution_count": 67,
   "metadata": {
    "id": "YzOfzF7C3FUT"
   },
   "outputs": [],
   "source": [
    "test_img = np.expand_dims(test_image,axis=0)"
   ]
  },
  {
   "cell_type": "code",
   "execution_count": 68,
   "metadata": {
    "id": "BprV7URk3QmW"
   },
   "outputs": [
    {
     "name": "stdout",
     "output_type": "stream",
     "text": [
      "1/1 [==============================] - 0s 90ms/step\n"
     ]
    }
   ],
   "source": [
    "pred = Model.predict(test_img)"
   ]
  },
  {
   "cell_type": "code",
   "execution_count": 69,
   "metadata": {
    "id": "I7piMFRF3t4F"
   },
   "outputs": [],
   "source": [
    "ref = {0: 'NORMAL',1: 'PNEUMONIA'}"
   ]
  },
  {
   "cell_type": "code",
   "execution_count": 70,
   "metadata": {
    "id": "QjI9LX2K3u2A"
   },
   "outputs": [
    {
     "name": "stdout",
     "output_type": "stream",
     "text": [
      "My image is classified as : PNEUMONIA\n"
     ]
    }
   ],
   "source": [
    "print(\"My image is classified as :\", ref[int(pred[0][0])])"
   ]
  },
  {
   "cell_type": "code",
   "execution_count": null,
   "metadata": {
    "id": "1qi4A5kX31tf"
   },
   "outputs": [],
   "source": [
    "# We have a trained model  so in case if i want to save this what should i do\n",
    "# can i save this model as a pickle model"
   ]
  },
  {
   "cell_type": "code",
   "execution_count": null,
   "metadata": {
    "id": "fzqvMRfD4fdF"
   },
   "outputs": [],
   "source": [
    "# pickle module - to dump you trained model and then again use them\n",
    "import pickle\n",
    "model = pickle.dumps(Model)\n"
   ]
  },
  {
   "cell_type": "code",
   "execution_count": null,
   "metadata": {
    "id": "nxGW54vr40pZ"
   },
   "outputs": [],
   "source": [
    "# create a pcikle file\n",
    "f = open(\"/content/CNN_fase_mask_model_prediction.pickle\", \"wb\")"
   ]
  },
  {
   "cell_type": "code",
   "execution_count": null,
   "metadata": {
    "id": "3GpKlMYu5EZC"
   },
   "outputs": [],
   "source": [
    "f.write(model)\n",
    "f.close()"
   ]
  },
  {
   "cell_type": "code",
   "execution_count": null,
   "metadata": {
    "id": "z0cNhQgO5J-g"
   },
   "outputs": [],
   "source": [
    "# In case i need to use this model but i don't want to re-train it"
   ]
  },
  {
   "cell_type": "code",
   "execution_count": null,
   "metadata": {
    "id": "f0Iebrrb5VJ7"
   },
   "outputs": [],
   "source": [
    "# loading a pre-trained pickle model\n",
    "f = open(\"/content/CNN_fase_mask_model_prediction.pickle\", \"rb\")\n",
    "Mod = f.read()\n",
    "Model_pretrained = pickle.loads(Mod)\n",
    "f.close()"
   ]
  },
  {
   "cell_type": "code",
   "execution_count": null,
   "metadata": {
    "id": "sAkAaxQ_5iRV"
   },
   "outputs": [],
   "source": [
    "# test an image\n",
    "import numpy as np\n",
    "from keras.preprocessing  import image\n",
    "testing_image = image.load_img(\"/content/drive/MyDrive/test_mask_det/with_mask/201-with-mask.jpg\",\n",
    "                               target_size = (64,64))\n",
    "test_image = image.img_to_array(testing_image)\n",
    "test_img = np.expand_dims(test_image,axis=0)\n",
    "pred = Model_pretrained.predict(test_img)\n",
    "ref = { 0 :\"with_mask\", 1: \"without_mask\"}\n",
    "print(\"My image is classified as :\", ref[int(pred[0][0])])"
   ]
  },
  {
   "cell_type": "code",
   "execution_count": null,
   "metadata": {
    "id": "2yBWE-JA50xv"
   },
   "outputs": [],
   "source": []
  },
  {
   "cell_type": "code",
   "execution_count": null,
   "metadata": {
    "id": "7OotmIJJ7pdC"
   },
   "outputs": [],
   "source": [
    "# R-CNN : https://towardsdatascience.com/r-cnn-fast-r-cnn-faster-r-cnn-yolo-object-detection-algorithms-36d53571365e"
   ]
  }
 ],
 "metadata": {
  "colab": {
   "collapsed_sections": [],
   "name": "Mask detection CNN model 1.ipynb",
   "private_outputs": true,
   "provenance": []
  },
  "kernelspec": {
   "display_name": "Python 3 (ipykernel)",
   "language": "python",
   "name": "python3"
  },
  "language_info": {
   "codemirror_mode": {
    "name": "ipython",
    "version": 3
   },
   "file_extension": ".py",
   "mimetype": "text/x-python",
   "name": "python",
   "nbconvert_exporter": "python",
   "pygments_lexer": "ipython3",
   "version": "3.11.4"
  }
 },
 "nbformat": 4,
 "nbformat_minor": 1
}
